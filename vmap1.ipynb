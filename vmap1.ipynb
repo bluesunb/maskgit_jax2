{
 "cells": [
  {
   "cell_type": "code",
   "execution_count": 2,
   "metadata": {},
   "outputs": [],
   "source": [
    "import jax, jax.numpy as jp\n",
    "from functools import partial\n",
    "\n",
    "@partial(jax.jit, static_argnums=(1, 2))\n",
    "def unfold(x: jp.ndarray, dim: int, p: int):\n",
    "    n = x.shape[dim]\n",
    "    ids = jp.arange(n)[:p * (n // p)].reshape(-1, p)\n",
    "    trns = tuple(range(dim + 1)) + tuple(range(dim + 2, x.ndim + 1)) + (dim + 1, )\n",
    "    x_unf = x.take(ids, axis=dim).transpose(trns)\n",
    "    return x_unf"
   ]
  },
  {
   "cell_type": "code",
   "execution_count": 6,
   "metadata": {},
   "outputs": [
    {
     "data": {
      "text/plain": [
       "(256, 4, 128, 32)"
      ]
     },
     "execution_count": 6,
     "metadata": {},
     "output_type": "execute_result"
    }
   ],
   "source": [
    "rng = jax.random.PRNGKey(0)\n",
    "x = jax.random.normal(rng, (256, 128, 128))\n",
    "y = unfold(x, 1, 32)\n",
    "y.shape"
   ]
  },
  {
   "cell_type": "code",
   "execution_count": 7,
   "metadata": {},
   "outputs": [
    {
     "name": "stdout",
     "output_type": "stream",
     "text": [
      "76.2 µs ± 527 ns per loop (mean ± std. dev. of 7 runs, 10,000 loops each)\n"
     ]
    }
   ],
   "source": [
    "%timeit unfold(x, 1, 32).block_until_ready()"
   ]
  },
  {
   "cell_type": "code",
   "execution_count": 8,
   "metadata": {},
   "outputs": [],
   "source": [
    "import torch as th\n",
    "\n",
    "z = th.randn(256, 128, 128)"
   ]
  },
  {
   "cell_type": "code",
   "execution_count": 9,
   "metadata": {},
   "outputs": [
    {
     "name": "stdout",
     "output_type": "stream",
     "text": [
      "1.03 µs ± 1.93 ns per loop (mean ± std. dev. of 7 runs, 1,000,000 loops each)\n"
     ]
    }
   ],
   "source": [
    "%timeit z.unfold(1, 32, 32)"
   ]
  },
  {
   "cell_type": "code",
   "execution_count": 19,
   "metadata": {},
   "outputs": [],
   "source": [
    "import jax, jax.numpy as jp\n",
    "import torch as th\n",
    "\n",
    "def patch_mask_th(x, p):\n",
    "    mask = x.unfold(2, p, p).unfold(1, p, p)\n",
    "    mask = mask.permute(1, 2, 0, 4, 3)\n",
    "    mask = mask.contiguous().view(mask.size(0) * mask.size(1), -1)\n",
    "    return mask\n",
    "\n",
    "\n",
    "def patch_mask_jx(x, p):\n",
    "    mask = jax.lax.conv_general_dilated_patches(\n",
    "        x[None, None, ...],\n",
    "        filter_shape=(1, p, p),\n",
    "        window_strides=(1, p, p),\n",
    "        padding='valid'\n",
    "    )\n",
    "    d = int(mask.shape[1] ** 0.5)\n",
    "    mask = mask.reshape(d, d, *mask.shape[2:]).transpose(3, 4, 2, 0, 1)\n",
    "    return mask.reshape(mask.shape[0] * mask.shape[1], -1)"
   ]
  },
  {
   "cell_type": "code",
   "execution_count": 20,
   "metadata": {},
   "outputs": [
    {
     "data": {
      "text/plain": [
       "True"
      ]
     },
     "execution_count": 20,
     "metadata": {},
     "output_type": "execute_result"
    }
   ],
   "source": [
    "import numpy as np\n",
    "\n",
    "x = np.random.randn(3, 256, 256)\n",
    "x_th = th.from_numpy(x)\n",
    "x_jx = jp.array(x)\n",
    "\n",
    "y1 = patch_mask_th(x_th, 16)\n",
    "y2 = patch_mask_jx(x_jx, 16)\n",
    "\n",
    "np.allclose(y1.numpy(), y2)"
   ]
  },
  {
   "cell_type": "code",
   "execution_count": 21,
   "metadata": {},
   "outputs": [
    {
     "name": "stdout",
     "output_type": "stream",
     "text": [
      "22.9 µs ± 281 ns per loop (mean ± std. dev. of 7 runs, 10,000 loops each)\n"
     ]
    }
   ],
   "source": [
    "%timeit patch_mask_th(x_th, 16)"
   ]
  },
  {
   "cell_type": "code",
   "execution_count": 22,
   "metadata": {},
   "outputs": [
    {
     "name": "stdout",
     "output_type": "stream",
     "text": [
      "21.9 µs ± 260 ns per loop (mean ± std. dev. of 7 runs, 10,000 loops each)\n"
     ]
    }
   ],
   "source": [
    "%timeit patch_mask_th(x_th, 16)"
   ]
  },
  {
   "cell_type": "code",
   "execution_count": null,
   "metadata": {},
   "outputs": [],
   "source": []
  }
 ],
 "metadata": {
  "kernelspec": {
   "display_name": "mu",
   "language": "python",
   "name": "python3"
  },
  "language_info": {
   "codemirror_mode": {
    "name": "ipython",
    "version": 3
   },
   "file_extension": ".py",
   "mimetype": "text/x-python",
   "name": "python",
   "nbconvert_exporter": "python",
   "pygments_lexer": "ipython3",
   "version": "3.10.13"
  }
 },
 "nbformat": 4,
 "nbformat_minor": 2
}
