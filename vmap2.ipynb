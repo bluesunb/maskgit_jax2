{
 "cells": [
  {
   "cell_type": "code",
   "execution_count": 1,
   "metadata": {},
   "outputs": [],
   "source": [
    "import jax\n",
    "import jax.numpy as jp\n",
    "\n",
    "def take(x: jp.ndarray, index: int):\n",
    "    return x[index]\n",
    "\n",
    "x = jp.arange(25).reshape((5, 5))"
   ]
  },
  {
   "cell_type": "code",
   "execution_count": 2,
   "metadata": {},
   "outputs": [
    {
     "data": {
      "text/plain": [
       "Array([[10,  5,  0],\n",
       "       [11,  6,  1],\n",
       "       [12,  7,  2],\n",
       "       [13,  8,  3],\n",
       "       [14,  9,  4]], dtype=int32)"
      ]
     },
     "execution_count": 2,
     "metadata": {},
     "output_type": "execute_result"
    }
   ],
   "source": [
    "jax.vmap(take, in_axes=(None, 0), out_axes=1)(x, jp.array([2,1,0]))"
   ]
  },
  {
   "cell_type": "code",
   "execution_count": 8,
   "metadata": {},
   "outputs": [],
   "source": [
    "x = jp.arange(125).reshape(5, 5, 5)\n",
    "ids = jp.array([[0, 1], [2,3]])"
   ]
  },
  {
   "cell_type": "code",
   "execution_count": null,
   "metadata": {},
   "outputs": [],
   "source": [
    "def unfold(x: jp.ndarray, dim: int, p: int):\n",
    "    n = x.shape[dim]\n",
    "    ids = jp.arange(p)[:p * n // p].reshape(-1, p)\n",
    "    "
   ]
  },
  {
   "cell_type": "code",
   "execution_count": 12,
   "metadata": {},
   "outputs": [
    {
     "data": {
      "text/plain": [
       "Array([[[[ 0, 25],\n",
       "         [ 1, 26],\n",
       "         [ 2, 27],\n",
       "         [ 3, 28],\n",
       "         [ 4, 29]],\n",
       "\n",
       "        [[ 5, 30],\n",
       "         [ 6, 31],\n",
       "         [ 7, 32],\n",
       "         [ 8, 33],\n",
       "         [ 9, 34]],\n",
       "\n",
       "        [[10, 35],\n",
       "         [11, 36],\n",
       "         [12, 37],\n",
       "         [13, 38],\n",
       "         [14, 39]],\n",
       "\n",
       "        [[15, 40],\n",
       "         [16, 41],\n",
       "         [17, 42],\n",
       "         [18, 43],\n",
       "         [19, 44]],\n",
       "\n",
       "        [[20, 45],\n",
       "         [21, 46],\n",
       "         [22, 47],\n",
       "         [23, 48],\n",
       "         [24, 49]]],\n",
       "\n",
       "\n",
       "       [[[50, 75],\n",
       "         [51, 76],\n",
       "         [52, 77],\n",
       "         [53, 78],\n",
       "         [54, 79]],\n",
       "\n",
       "        [[55, 80],\n",
       "         [56, 81],\n",
       "         [57, 82],\n",
       "         [58, 83],\n",
       "         [59, 84]],\n",
       "\n",
       "        [[60, 85],\n",
       "         [61, 86],\n",
       "         [62, 87],\n",
       "         [63, 88],\n",
       "         [64, 89]],\n",
       "\n",
       "        [[65, 90],\n",
       "         [66, 91],\n",
       "         [67, 92],\n",
       "         [68, 93],\n",
       "         [69, 94]],\n",
       "\n",
       "        [[70, 95],\n",
       "         [71, 96],\n",
       "         [72, 97],\n",
       "         [73, 98],\n",
       "         [74, 99]]]], dtype=int32)"
      ]
     },
     "execution_count": 12,
     "metadata": {},
     "output_type": "execute_result"
    }
   ],
   "source": [
    "x[ids].transpose(0, 2, 3, 1)"
   ]
  },
  {
   "cell_type": "code",
   "execution_count": 18,
   "metadata": {},
   "outputs": [
    {
     "data": {
      "text/plain": [
       "Array([[[[  0,   5],\n",
       "         [  1,   6],\n",
       "         [  2,   7],\n",
       "         [  3,   8],\n",
       "         [  4,   9]],\n",
       "\n",
       "        [[ 10,  15],\n",
       "         [ 11,  16],\n",
       "         [ 12,  17],\n",
       "         [ 13,  18],\n",
       "         [ 14,  19]]],\n",
       "\n",
       "\n",
       "       [[[ 25,  30],\n",
       "         [ 26,  31],\n",
       "         [ 27,  32],\n",
       "         [ 28,  33],\n",
       "         [ 29,  34]],\n",
       "\n",
       "        [[ 35,  40],\n",
       "         [ 36,  41],\n",
       "         [ 37,  42],\n",
       "         [ 38,  43],\n",
       "         [ 39,  44]]],\n",
       "\n",
       "\n",
       "       [[[ 50,  55],\n",
       "         [ 51,  56],\n",
       "         [ 52,  57],\n",
       "         [ 53,  58],\n",
       "         [ 54,  59]],\n",
       "\n",
       "        [[ 60,  65],\n",
       "         [ 61,  66],\n",
       "         [ 62,  67],\n",
       "         [ 63,  68],\n",
       "         [ 64,  69]]],\n",
       "\n",
       "\n",
       "       [[[ 75,  80],\n",
       "         [ 76,  81],\n",
       "         [ 77,  82],\n",
       "         [ 78,  83],\n",
       "         [ 79,  84]],\n",
       "\n",
       "        [[ 85,  90],\n",
       "         [ 86,  91],\n",
       "         [ 87,  92],\n",
       "         [ 88,  93],\n",
       "         [ 89,  94]]],\n",
       "\n",
       "\n",
       "       [[[100, 105],\n",
       "         [101, 106],\n",
       "         [102, 107],\n",
       "         [103, 108],\n",
       "         [104, 109]],\n",
       "\n",
       "        [[110, 115],\n",
       "         [111, 116],\n",
       "         [112, 117],\n",
       "         [113, 118],\n",
       "         [114, 119]]]], dtype=int32)"
      ]
     },
     "execution_count": 18,
     "metadata": {},
     "output_type": "execute_result"
    }
   ],
   "source": [
    "jp.take(x, ids, axis=1).transpose(0, 1, 3, 2)"
   ]
  },
  {
   "cell_type": "code",
   "execution_count": 20,
   "metadata": {},
   "outputs": [
    {
     "data": {
      "text/plain": [
       "Array([[[[  0,   1],\n",
       "         [  2,   3]],\n",
       "\n",
       "        [[  5,   6],\n",
       "         [  7,   8]],\n",
       "\n",
       "        [[ 10,  11],\n",
       "         [ 12,  13]],\n",
       "\n",
       "        [[ 15,  16],\n",
       "         [ 17,  18]],\n",
       "\n",
       "        [[ 20,  21],\n",
       "         [ 22,  23]]],\n",
       "\n",
       "\n",
       "       [[[ 25,  26],\n",
       "         [ 27,  28]],\n",
       "\n",
       "        [[ 30,  31],\n",
       "         [ 32,  33]],\n",
       "\n",
       "        [[ 35,  36],\n",
       "         [ 37,  38]],\n",
       "\n",
       "        [[ 40,  41],\n",
       "         [ 42,  43]],\n",
       "\n",
       "        [[ 45,  46],\n",
       "         [ 47,  48]]],\n",
       "\n",
       "\n",
       "       [[[ 50,  51],\n",
       "         [ 52,  53]],\n",
       "\n",
       "        [[ 55,  56],\n",
       "         [ 57,  58]],\n",
       "\n",
       "        [[ 60,  61],\n",
       "         [ 62,  63]],\n",
       "\n",
       "        [[ 65,  66],\n",
       "         [ 67,  68]],\n",
       "\n",
       "        [[ 70,  71],\n",
       "         [ 72,  73]]],\n",
       "\n",
       "\n",
       "       [[[ 75,  76],\n",
       "         [ 77,  78]],\n",
       "\n",
       "        [[ 80,  81],\n",
       "         [ 82,  83]],\n",
       "\n",
       "        [[ 85,  86],\n",
       "         [ 87,  88]],\n",
       "\n",
       "        [[ 90,  91],\n",
       "         [ 92,  93]],\n",
       "\n",
       "        [[ 95,  96],\n",
       "         [ 97,  98]]],\n",
       "\n",
       "\n",
       "       [[[100, 101],\n",
       "         [102, 103]],\n",
       "\n",
       "        [[105, 106],\n",
       "         [107, 108]],\n",
       "\n",
       "        [[110, 111],\n",
       "         [112, 113]],\n",
       "\n",
       "        [[115, 116],\n",
       "         [117, 118]],\n",
       "\n",
       "        [[120, 121],\n",
       "         [122, 123]]]], dtype=int32)"
      ]
     },
     "execution_count": 20,
     "metadata": {},
     "output_type": "execute_result"
    }
   ],
   "source": [
    "jp.take(x, ids, axis=2)"
   ]
  },
  {
   "cell_type": "code",
   "execution_count": null,
   "metadata": {},
   "outputs": [],
   "source": []
  }
 ],
 "metadata": {
  "kernelspec": {
   "display_name": "mu",
   "language": "python",
   "name": "python3"
  },
  "language_info": {
   "codemirror_mode": {
    "name": "ipython",
    "version": 3
   },
   "file_extension": ".py",
   "mimetype": "text/x-python",
   "name": "python",
   "nbconvert_exporter": "python",
   "pygments_lexer": "ipython3",
   "version": "3.10.13"
  }
 },
 "nbformat": 4,
 "nbformat_minor": 2
}
